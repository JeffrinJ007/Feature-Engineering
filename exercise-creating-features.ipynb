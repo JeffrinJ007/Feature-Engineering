{
 "cells": [
  {
   "cell_type": "markdown",
   "id": "e9d35478",
   "metadata": {
    "papermill": {
     "duration": 0.007612,
     "end_time": "2023-06-30T04:48:02.568721",
     "exception": false,
     "start_time": "2023-06-30T04:48:02.561109",
     "status": "completed"
    },
    "tags": []
   },
   "source": [
    "**This notebook is an exercise in the [Feature Engineering](https://www.kaggle.com/learn/feature-engineering) course.  You can reference the tutorial at [this link](https://www.kaggle.com/ryanholbrook/creating-features).**\n",
    "\n",
    "---\n"
   ]
  },
  {
   "cell_type": "markdown",
   "id": "6b87aeb3",
   "metadata": {
    "papermill": {
     "duration": 0.007246,
     "end_time": "2023-06-30T04:48:02.583289",
     "exception": false,
     "start_time": "2023-06-30T04:48:02.576043",
     "status": "completed"
    },
    "tags": []
   },
   "source": [
    "# Introduction #\n",
    "\n",
    "In this exercise you'll start developing the features you identified in Exercise 2 as having the most potential. As you work through this exercise, you might take a moment to look at the data documentation again and consider whether the features we're creating make sense from a real-world perspective, and whether there are any useful combinations that stand out to you.\n",
    "\n",
    "Run this cell to set everything up!"
   ]
  },
  {
   "cell_type": "code",
   "execution_count": 1,
   "id": "971e45c9",
   "metadata": {
    "execution": {
     "iopub.execute_input": "2023-06-30T04:48:02.599807Z",
     "iopub.status.busy": "2023-06-30T04:48:02.599105Z",
     "iopub.status.idle": "2023-06-30T04:48:04.559532Z",
     "shell.execute_reply": "2023-06-30T04:48:04.558359Z"
    },
    "papermill": {
     "duration": 1.971835,
     "end_time": "2023-06-30T04:48:04.562304",
     "exception": false,
     "start_time": "2023-06-30T04:48:02.590469",
     "status": "completed"
    },
    "tags": []
   },
   "outputs": [],
   "source": [
    "# Setup feedback system\n",
    "from learntools.core import binder\n",
    "binder.bind(globals())\n",
    "from learntools.feature_engineering_new.ex3 import *\n",
    "\n",
    "import numpy as np\n",
    "import pandas as pd\n",
    "from sklearn.model_selection import cross_val_score\n",
    "from xgboost import XGBRegressor\n",
    "\n",
    "\n",
    "def score_dataset(X, y, model=XGBRegressor()):\n",
    "    # Label encoding for categoricals\n",
    "    for colname in X.select_dtypes([\"category\", \"object\"]):\n",
    "        X[colname], _ = X[colname].factorize()\n",
    "    # Metric for Housing competition is RMSLE (Root Mean Squared Log Error)\n",
    "    score = cross_val_score(\n",
    "        model, X, y, cv=5, scoring=\"neg_mean_squared_log_error\",\n",
    "    )\n",
    "    score = -1 * score.mean()\n",
    "    score = np.sqrt(score)\n",
    "    return score\n",
    "\n",
    "\n",
    "# Prepare data\n",
    "df = pd.read_csv(\"../input/fe-course-data/ames.csv\")\n",
    "X = df.copy()\n",
    "y = X.pop(\"SalePrice\")"
   ]
  },
  {
   "cell_type": "markdown",
   "id": "7e94c127",
   "metadata": {
    "papermill": {
     "duration": 0.006904,
     "end_time": "2023-06-30T04:48:04.576460",
     "exception": false,
     "start_time": "2023-06-30T04:48:04.569556",
     "status": "completed"
    },
    "tags": []
   },
   "source": [
    "-------------------------------------------------------------------------------\n",
    "\n",
    "Let's start with a few mathematical combinations. We'll focus on features describing areas -- having the same units (square-feet) makes it easy to combine them in sensible ways. Since we're using XGBoost (a tree-based model), we'll focus on ratios and sums.\n",
    "\n",
    "# 1) Create Mathematical Transforms\n",
    "\n",
    "Create the following features:\n",
    "\n",
    "- `LivLotRatio`: the ratio of `GrLivArea` to `LotArea`\n",
    "- `Spaciousness`: the sum of `FirstFlrSF` and `SecondFlrSF` divided by `TotRmsAbvGrd`\n",
    "- `TotalOutsideSF`: the sum of `WoodDeckSF`, `OpenPorchSF`, `EnclosedPorch`, `Threeseasonporch`, and `ScreenPorch`"
   ]
  },
  {
   "cell_type": "code",
   "execution_count": 2,
   "id": "93608c4f",
   "metadata": {
    "execution": {
     "iopub.execute_input": "2023-06-30T04:48:04.593162Z",
     "iopub.status.busy": "2023-06-30T04:48:04.592738Z",
     "iopub.status.idle": "2023-06-30T04:48:04.618678Z",
     "shell.execute_reply": "2023-06-30T04:48:04.617504Z"
    },
    "lines_to_next_cell": 0,
    "papermill": {
     "duration": 0.037758,
     "end_time": "2023-06-30T04:48:04.621336",
     "exception": false,
     "start_time": "2023-06-30T04:48:04.583578",
     "status": "completed"
    },
    "tags": []
   },
   "outputs": [
    {
     "data": {
      "application/javascript": [
       "parent.postMessage({\"jupyterEvent\": \"custom.exercise_interaction\", \"data\": {\"outcomeType\": 1, \"valueTowardsCompletion\": 0.2, \"interactionType\": 1, \"questionType\": 2, \"questionId\": \"1_Q1\", \"learnToolsVersion\": \"0.3.4\", \"failureMessage\": \"\", \"exceptionClass\": \"\", \"trace\": \"\"}}, \"*\")"
      ],
      "text/plain": [
       "<IPython.core.display.Javascript object>"
      ]
     },
     "metadata": {},
     "output_type": "display_data"
    },
    {
     "data": {
      "text/markdown": [
       "<span style=\"color:#33cc33\">Correct</span>"
      ],
      "text/plain": [
       "Correct"
      ]
     },
     "metadata": {},
     "output_type": "display_data"
    }
   ],
   "source": [
    "# YOUR CODE HERE\n",
    "X_1 = pd.DataFrame()  # dataframe to hold new features\n",
    "\n",
    "X_1[\"LivLotRatio\"] = df.GrLivArea / df.LotArea\n",
    "X_1[\"Spaciousness\"] = (df.FirstFlrSF + df.SecondFlrSF) / df.TotRmsAbvGrd\n",
    "X_1[\"TotalOutsideSF\"] = df.WoodDeckSF + df.OpenPorchSF + df.EnclosedPorch + df.Threeseasonporch + df.ScreenPorch\n",
    "\n",
    "\n",
    "# Check your answer\n",
    "q_1.check()"
   ]
  },
  {
   "cell_type": "code",
   "execution_count": 3,
   "id": "b6a4b21d",
   "metadata": {
    "execution": {
     "iopub.execute_input": "2023-06-30T04:48:04.640068Z",
     "iopub.status.busy": "2023-06-30T04:48:04.639689Z",
     "iopub.status.idle": "2023-06-30T04:48:04.648444Z",
     "shell.execute_reply": "2023-06-30T04:48:04.647394Z"
    },
    "lines_to_next_cell": 0,
    "papermill": {
     "duration": 0.0204,
     "end_time": "2023-06-30T04:48:04.650800",
     "exception": false,
     "start_time": "2023-06-30T04:48:04.630400",
     "status": "completed"
    },
    "tags": []
   },
   "outputs": [
    {
     "data": {
      "application/javascript": [
       "parent.postMessage({\"jupyterEvent\": \"custom.exercise_interaction\", \"data\": {\"interactionType\": 3, \"questionType\": 2, \"questionId\": \"1_Q1\", \"learnToolsVersion\": \"0.3.4\", \"valueTowardsCompletion\": 0.0, \"failureMessage\": \"\", \"exceptionClass\": \"\", \"trace\": \"\", \"outcomeType\": 4}}, \"*\")"
      ],
      "text/plain": [
       "<IPython.core.display.Javascript object>"
      ]
     },
     "metadata": {},
     "output_type": "display_data"
    },
    {
     "data": {
      "text/markdown": [
       "<span style=\"color:#33cc99\">Solution:</span> \n",
       "```python\n",
       "\n",
       "X_1[\"LivLotRatio\"] = df.GrLivArea / df.LotArea\n",
       "X_1[\"Spaciousness\"] = (df.FirstFlrSF + df.SecondFlrSF) / df.TotRmsAbvGrd\n",
       "X_1[\"TotalOutsideSF\"] = df.WoodDeckSF + df.OpenPorchSF + df.EnclosedPorch + df.Threeseasonporch + df.ScreenPorch\n",
       "\n",
       "```"
      ],
      "text/plain": [
       "Solution: \n",
       "```python\n",
       "\n",
       "X_1[\"LivLotRatio\"] = df.GrLivArea / df.LotArea\n",
       "X_1[\"Spaciousness\"] = (df.FirstFlrSF + df.SecondFlrSF) / df.TotRmsAbvGrd\n",
       "X_1[\"TotalOutsideSF\"] = df.WoodDeckSF + df.OpenPorchSF + df.EnclosedPorch + df.Threeseasonporch + df.ScreenPorch\n",
       "\n",
       "```"
      ]
     },
     "metadata": {},
     "output_type": "display_data"
    }
   ],
   "source": [
    "# Lines below will give you a hint or solution code\n",
    "#q_1.hint()\n",
    "q_1.solution()"
   ]
  },
  {
   "cell_type": "markdown",
   "id": "a5d6808e",
   "metadata": {
    "papermill": {
     "duration": 0.007632,
     "end_time": "2023-06-30T04:48:04.666297",
     "exception": false,
     "start_time": "2023-06-30T04:48:04.658665",
     "status": "completed"
    },
    "tags": []
   },
   "source": [
    "-------------------------------------------------------------------------------\n",
    "\n",
    "If you've discovered an interaction effect between a numeric feature and a categorical feature, you might want to model it explicitly using a one-hot encoding, like so:\n",
    "\n",
    "```\n",
    "# One-hot encode Categorical feature, adding a column prefix \"Cat\"\n",
    "X_new = pd.get_dummies(df.Categorical, prefix=\"Cat\")\n",
    "\n",
    "# Multiply row-by-row\n",
    "X_new = X_new.mul(df.Continuous, axis=0)\n",
    "\n",
    "# Join the new features to the feature set\n",
    "X = X.join(X_new)\n",
    "```\n",
    "\n",
    "# 2) Interaction with a Categorical\n",
    "\n",
    "We discovered an interaction between `BldgType` and `GrLivArea` in Exercise 2. Now create their interaction features."
   ]
  },
  {
   "cell_type": "code",
   "execution_count": 4,
   "id": "28fde1c8",
   "metadata": {
    "execution": {
     "iopub.execute_input": "2023-06-30T04:48:04.683836Z",
     "iopub.status.busy": "2023-06-30T04:48:04.683465Z",
     "iopub.status.idle": "2023-06-30T04:48:04.700045Z",
     "shell.execute_reply": "2023-06-30T04:48:04.698948Z"
    },
    "lines_to_next_cell": 0,
    "papermill": {
     "duration": 0.028196,
     "end_time": "2023-06-30T04:48:04.702304",
     "exception": false,
     "start_time": "2023-06-30T04:48:04.674108",
     "status": "completed"
    },
    "tags": []
   },
   "outputs": [
    {
     "data": {
      "application/javascript": [
       "parent.postMessage({\"jupyterEvent\": \"custom.exercise_interaction\", \"data\": {\"outcomeType\": 1, \"valueTowardsCompletion\": 0.2, \"interactionType\": 1, \"questionType\": 2, \"questionId\": \"2_Q2\", \"learnToolsVersion\": \"0.3.4\", \"failureMessage\": \"\", \"exceptionClass\": \"\", \"trace\": \"\"}}, \"*\")"
      ],
      "text/plain": [
       "<IPython.core.display.Javascript object>"
      ]
     },
     "metadata": {},
     "output_type": "display_data"
    },
    {
     "data": {
      "text/markdown": [
       "<span style=\"color:#33cc33\">Correct</span>"
      ],
      "text/plain": [
       "Correct"
      ]
     },
     "metadata": {},
     "output_type": "display_data"
    }
   ],
   "source": [
    "# YOUR CODE HERE\n",
    "# One-hot encode BldgType. Use `prefix=\"Bldg\"` in `get_dummies`\n",
    "X_2 = pd.get_dummies(df.BldgType, prefix=\"Bldg\")\n",
    "X_2 = X_2.mul(df.GrLivArea, axis=0)\n",
    "\n",
    "\n",
    "# Check your answer\n",
    "q_2.check()"
   ]
  },
  {
   "cell_type": "code",
   "execution_count": 5,
   "id": "d411d47d",
   "metadata": {
    "execution": {
     "iopub.execute_input": "2023-06-30T04:48:04.720590Z",
     "iopub.status.busy": "2023-06-30T04:48:04.720158Z",
     "iopub.status.idle": "2023-06-30T04:48:04.728944Z",
     "shell.execute_reply": "2023-06-30T04:48:04.727918Z"
    },
    "lines_to_next_cell": 0,
    "papermill": {
     "duration": 0.020825,
     "end_time": "2023-06-30T04:48:04.731428",
     "exception": false,
     "start_time": "2023-06-30T04:48:04.710603",
     "status": "completed"
    },
    "tags": []
   },
   "outputs": [
    {
     "data": {
      "application/javascript": [
       "parent.postMessage({\"jupyterEvent\": \"custom.exercise_interaction\", \"data\": {\"interactionType\": 3, \"questionType\": 2, \"questionId\": \"2_Q2\", \"learnToolsVersion\": \"0.3.4\", \"valueTowardsCompletion\": 0.0, \"failureMessage\": \"\", \"exceptionClass\": \"\", \"trace\": \"\", \"outcomeType\": 4}}, \"*\")"
      ],
      "text/plain": [
       "<IPython.core.display.Javascript object>"
      ]
     },
     "metadata": {},
     "output_type": "display_data"
    },
    {
     "data": {
      "text/markdown": [
       "<span style=\"color:#33cc99\">Solution:</span> \n",
       "```python\n",
       "\n",
       "X_2 = pd.get_dummies(df.BldgType, prefix=\"Bldg\")\n",
       "X_2 = X_2.mul(df.GrLivArea, axis=0)\n",
       "\n",
       "```"
      ],
      "text/plain": [
       "Solution: \n",
       "```python\n",
       "\n",
       "X_2 = pd.get_dummies(df.BldgType, prefix=\"Bldg\")\n",
       "X_2 = X_2.mul(df.GrLivArea, axis=0)\n",
       "\n",
       "```"
      ]
     },
     "metadata": {},
     "output_type": "display_data"
    }
   ],
   "source": [
    "# Lines below will give you a hint or solution code\n",
    "#q_2.hint()\n",
    "q_2.solution()"
   ]
  },
  {
   "cell_type": "markdown",
   "id": "6dc9c6dc",
   "metadata": {
    "lines_to_next_cell": 0,
    "papermill": {
     "duration": 0.008239,
     "end_time": "2023-06-30T04:48:04.748142",
     "exception": false,
     "start_time": "2023-06-30T04:48:04.739903",
     "status": "completed"
    },
    "tags": []
   },
   "source": [
    "# 3) Count Feature\n",
    "\n",
    "Let's try creating a feature that describes how many kinds of outdoor areas a dwelling has. Create a feature `PorchTypes` that counts how many of the following are greater than 0.0:\n",
    "\n",
    "```\n",
    "WoodDeckSF\n",
    "OpenPorchSF\n",
    "EnclosedPorch\n",
    "Threeseasonporch\n",
    "ScreenPorch\n",
    "```"
   ]
  },
  {
   "cell_type": "code",
   "execution_count": 6,
   "id": "46cf07b3",
   "metadata": {
    "execution": {
     "iopub.execute_input": "2023-06-30T04:48:04.767369Z",
     "iopub.status.busy": "2023-06-30T04:48:04.766638Z",
     "iopub.status.idle": "2023-06-30T04:48:04.783911Z",
     "shell.execute_reply": "2023-06-30T04:48:04.782661Z"
    },
    "lines_to_next_cell": 0,
    "papermill": {
     "duration": 0.029867,
     "end_time": "2023-06-30T04:48:04.786445",
     "exception": false,
     "start_time": "2023-06-30T04:48:04.756578",
     "status": "completed"
    },
    "tags": []
   },
   "outputs": [
    {
     "data": {
      "application/javascript": [
       "parent.postMessage({\"jupyterEvent\": \"custom.exercise_interaction\", \"data\": {\"outcomeType\": 1, \"valueTowardsCompletion\": 0.2, \"interactionType\": 1, \"questionType\": 2, \"questionId\": \"3_Q3\", \"learnToolsVersion\": \"0.3.4\", \"failureMessage\": \"\", \"exceptionClass\": \"\", \"trace\": \"\"}}, \"*\")"
      ],
      "text/plain": [
       "<IPython.core.display.Javascript object>"
      ]
     },
     "metadata": {},
     "output_type": "display_data"
    },
    {
     "data": {
      "text/markdown": [
       "<span style=\"color:#33cc33\">Correct</span>"
      ],
      "text/plain": [
       "Correct"
      ]
     },
     "metadata": {},
     "output_type": "display_data"
    }
   ],
   "source": [
    "X_3 = pd.DataFrame()\n",
    "\n",
    "# YOUR CODE HERE\n",
    "X_3 = pd.DataFrame()\n",
    "\n",
    "X_3[\"PorchTypes\"] = df[[\n",
    "    \"WoodDeckSF\",\n",
    "    \"OpenPorchSF\",\n",
    "    \"EnclosedPorch\",\n",
    "    \"Threeseasonporch\",\n",
    "    \"ScreenPorch\",\n",
    "]].gt(0.0).sum(axis=1)\n",
    "\n",
    "# Check your answer\n",
    "q_3.check()"
   ]
  },
  {
   "cell_type": "code",
   "execution_count": 7,
   "id": "c3992971",
   "metadata": {
    "execution": {
     "iopub.execute_input": "2023-06-30T04:48:04.806858Z",
     "iopub.status.busy": "2023-06-30T04:48:04.806460Z",
     "iopub.status.idle": "2023-06-30T04:48:04.815404Z",
     "shell.execute_reply": "2023-06-30T04:48:04.814341Z"
    },
    "lines_to_next_cell": 0,
    "papermill": {
     "duration": 0.022336,
     "end_time": "2023-06-30T04:48:04.817905",
     "exception": false,
     "start_time": "2023-06-30T04:48:04.795569",
     "status": "completed"
    },
    "tags": []
   },
   "outputs": [
    {
     "data": {
      "application/javascript": [
       "parent.postMessage({\"jupyterEvent\": \"custom.exercise_interaction\", \"data\": {\"interactionType\": 3, \"questionType\": 2, \"questionId\": \"3_Q3\", \"learnToolsVersion\": \"0.3.4\", \"valueTowardsCompletion\": 0.0, \"failureMessage\": \"\", \"exceptionClass\": \"\", \"trace\": \"\", \"outcomeType\": 4}}, \"*\")"
      ],
      "text/plain": [
       "<IPython.core.display.Javascript object>"
      ]
     },
     "metadata": {},
     "output_type": "display_data"
    },
    {
     "data": {
      "text/markdown": [
       "<span style=\"color:#33cc99\">Solution:</span> \n",
       "```python\n",
       "\n",
       "X_3 = pd.DataFrame()\n",
       "\n",
       "X_3[\"PorchTypes\"] = df[[\n",
       "    \"WoodDeckSF\",\n",
       "    \"OpenPorchSF\",\n",
       "    \"EnclosedPorch\",\n",
       "    \"Threeseasonporch\",\n",
       "    \"ScreenPorch\",\n",
       "]].gt(0.0).sum(axis=1)\n",
       "\n",
       "```"
      ],
      "text/plain": [
       "Solution: \n",
       "```python\n",
       "\n",
       "X_3 = pd.DataFrame()\n",
       "\n",
       "X_3[\"PorchTypes\"] = df[[\n",
       "    \"WoodDeckSF\",\n",
       "    \"OpenPorchSF\",\n",
       "    \"EnclosedPorch\",\n",
       "    \"Threeseasonporch\",\n",
       "    \"ScreenPorch\",\n",
       "]].gt(0.0).sum(axis=1)\n",
       "\n",
       "```"
      ]
     },
     "metadata": {},
     "output_type": "display_data"
    }
   ],
   "source": [
    "# Lines below will give you a hint or solution code\n",
    "#q_3.hint()\n",
    "q_3.solution()"
   ]
  },
  {
   "cell_type": "markdown",
   "id": "bd360d4a",
   "metadata": {
    "papermill": {
     "duration": 0.008875,
     "end_time": "2023-06-30T04:48:04.835996",
     "exception": false,
     "start_time": "2023-06-30T04:48:04.827121",
     "status": "completed"
    },
    "tags": []
   },
   "source": [
    "# 4) Break Down a Categorical Feature\n",
    "\n",
    "`MSSubClass` describes the type of a dwelling:"
   ]
  },
  {
   "cell_type": "code",
   "execution_count": 8,
   "id": "f7e9faf2",
   "metadata": {
    "execution": {
     "iopub.execute_input": "2023-06-30T04:48:04.856158Z",
     "iopub.status.busy": "2023-06-30T04:48:04.855761Z",
     "iopub.status.idle": "2023-06-30T04:48:04.864881Z",
     "shell.execute_reply": "2023-06-30T04:48:04.863969Z"
    },
    "papermill": {
     "duration": 0.021918,
     "end_time": "2023-06-30T04:48:04.867055",
     "exception": false,
     "start_time": "2023-06-30T04:48:04.845137",
     "status": "completed"
    },
    "tags": []
   },
   "outputs": [
    {
     "data": {
      "text/plain": [
       "array(['One_Story_1946_and_Newer_All_Styles', 'Two_Story_1946_and_Newer',\n",
       "       'One_Story_PUD_1946_and_Newer',\n",
       "       'One_and_Half_Story_Finished_All_Ages', 'Split_Foyer',\n",
       "       'Two_Story_PUD_1946_and_Newer', 'Split_or_Multilevel',\n",
       "       'One_Story_1945_and_Older', 'Duplex_All_Styles_and_Ages',\n",
       "       'Two_Family_conversion_All_Styles_and_Ages',\n",
       "       'One_and_Half_Story_Unfinished_All_Ages',\n",
       "       'Two_Story_1945_and_Older', 'Two_and_Half_Story_All_Ages',\n",
       "       'One_Story_with_Finished_Attic_All_Ages',\n",
       "       'PUD_Multilevel_Split_Level_Foyer',\n",
       "       'One_and_Half_Story_PUD_All_Ages'], dtype=object)"
      ]
     },
     "execution_count": 8,
     "metadata": {},
     "output_type": "execute_result"
    }
   ],
   "source": [
    "df.MSSubClass.unique()"
   ]
  },
  {
   "cell_type": "markdown",
   "id": "96a2ebdb",
   "metadata": {
    "papermill": {
     "duration": 0.009014,
     "end_time": "2023-06-30T04:48:04.885444",
     "exception": false,
     "start_time": "2023-06-30T04:48:04.876430",
     "status": "completed"
    },
    "tags": []
   },
   "source": [
    "You can see that there is a more general categorization described (roughly) by the first word of each category. Create a feature containing only these first words by splitting `MSSubClass` at the first underscore `_`. (Hint: In the `split` method use an argument `n=1`.)"
   ]
  },
  {
   "cell_type": "code",
   "execution_count": 9,
   "id": "6cf5dd1c",
   "metadata": {
    "execution": {
     "iopub.execute_input": "2023-06-30T04:48:04.906702Z",
     "iopub.status.busy": "2023-06-30T04:48:04.905982Z",
     "iopub.status.idle": "2023-06-30T04:48:04.934035Z",
     "shell.execute_reply": "2023-06-30T04:48:04.932936Z"
    },
    "lines_to_next_cell": 0,
    "papermill": {
     "duration": 0.041599,
     "end_time": "2023-06-30T04:48:04.936311",
     "exception": false,
     "start_time": "2023-06-30T04:48:04.894712",
     "status": "completed"
    },
    "tags": []
   },
   "outputs": [
    {
     "data": {
      "application/javascript": [
       "parent.postMessage({\"jupyterEvent\": \"custom.exercise_interaction\", \"data\": {\"outcomeType\": 1, \"valueTowardsCompletion\": 0.2, \"interactionType\": 1, \"questionType\": 2, \"questionId\": \"4_Q4\", \"learnToolsVersion\": \"0.3.4\", \"failureMessage\": \"\", \"exceptionClass\": \"\", \"trace\": \"\"}}, \"*\")"
      ],
      "text/plain": [
       "<IPython.core.display.Javascript object>"
      ]
     },
     "metadata": {},
     "output_type": "display_data"
    },
    {
     "data": {
      "text/markdown": [
       "<span style=\"color:#33cc33\">Correct</span>"
      ],
      "text/plain": [
       "Correct"
      ]
     },
     "metadata": {},
     "output_type": "display_data"
    }
   ],
   "source": [
    "X_4 = pd.DataFrame()\n",
    "\n",
    "# YOUR CODE HERE\n",
    "X_4 = pd.DataFrame()\n",
    "\n",
    "X_4[\"MSClass\"] = df.MSSubClass.str.split(\"_\", n=1, expand=True)[0]\n",
    "\n",
    "# Check your answer\n",
    "q_4.check()"
   ]
  },
  {
   "cell_type": "code",
   "execution_count": 10,
   "id": "f327d873",
   "metadata": {
    "execution": {
     "iopub.execute_input": "2023-06-30T04:48:04.957418Z",
     "iopub.status.busy": "2023-06-30T04:48:04.956975Z",
     "iopub.status.idle": "2023-06-30T04:48:04.966633Z",
     "shell.execute_reply": "2023-06-30T04:48:04.965501Z"
    },
    "lines_to_next_cell": 0,
    "papermill": {
     "duration": 0.02305,
     "end_time": "2023-06-30T04:48:04.968995",
     "exception": false,
     "start_time": "2023-06-30T04:48:04.945945",
     "status": "completed"
    },
    "tags": []
   },
   "outputs": [
    {
     "data": {
      "application/javascript": [
       "parent.postMessage({\"jupyterEvent\": \"custom.exercise_interaction\", \"data\": {\"interactionType\": 3, \"questionType\": 2, \"questionId\": \"4_Q4\", \"learnToolsVersion\": \"0.3.4\", \"valueTowardsCompletion\": 0.0, \"failureMessage\": \"\", \"exceptionClass\": \"\", \"trace\": \"\", \"outcomeType\": 4}}, \"*\")"
      ],
      "text/plain": [
       "<IPython.core.display.Javascript object>"
      ]
     },
     "metadata": {},
     "output_type": "display_data"
    },
    {
     "data": {
      "text/markdown": [
       "<span style=\"color:#33cc99\">Solution:</span> \n",
       "```python\n",
       "\n",
       "X_4 = pd.DataFrame()\n",
       "\n",
       "X_4[\"MSClass\"] = df.MSSubClass.str.split(\"_\", n=1, expand=True)[0]\n",
       "\n",
       "```"
      ],
      "text/plain": [
       "Solution: \n",
       "```python\n",
       "\n",
       "X_4 = pd.DataFrame()\n",
       "\n",
       "X_4[\"MSClass\"] = df.MSSubClass.str.split(\"_\", n=1, expand=True)[0]\n",
       "\n",
       "```"
      ]
     },
     "metadata": {},
     "output_type": "display_data"
    }
   ],
   "source": [
    "# Lines below will give you a hint or solution code\n",
    "#q_4.hint()\n",
    "q_4.solution()"
   ]
  },
  {
   "cell_type": "markdown",
   "id": "6373c2b5",
   "metadata": {
    "papermill": {
     "duration": 0.009671,
     "end_time": "2023-06-30T04:48:04.988875",
     "exception": false,
     "start_time": "2023-06-30T04:48:04.979204",
     "status": "completed"
    },
    "tags": []
   },
   "source": [
    "# 5) Use a Grouped Transform\n",
    "\n",
    "The value of a home often depends on how it compares to typical homes in its neighborhood. Create a feature `MedNhbdArea` that describes the *median* of `GrLivArea` grouped on `Neighborhood`."
   ]
  },
  {
   "cell_type": "code",
   "execution_count": 11,
   "id": "3ef326dc",
   "metadata": {
    "execution": {
     "iopub.execute_input": "2023-06-30T04:48:05.011503Z",
     "iopub.status.busy": "2023-06-30T04:48:05.011072Z",
     "iopub.status.idle": "2023-06-30T04:48:05.032364Z",
     "shell.execute_reply": "2023-06-30T04:48:05.031282Z"
    },
    "lines_to_next_cell": 0,
    "papermill": {
     "duration": 0.03606,
     "end_time": "2023-06-30T04:48:05.035167",
     "exception": false,
     "start_time": "2023-06-30T04:48:04.999107",
     "status": "completed"
    },
    "tags": []
   },
   "outputs": [
    {
     "data": {
      "application/javascript": [
       "parent.postMessage({\"jupyterEvent\": \"custom.exercise_interaction\", \"data\": {\"outcomeType\": 1, \"valueTowardsCompletion\": 0.2, \"interactionType\": 1, \"questionType\": 2, \"questionId\": \"5_Q5\", \"learnToolsVersion\": \"0.3.4\", \"failureMessage\": \"\", \"exceptionClass\": \"\", \"trace\": \"\"}}, \"*\")"
      ],
      "text/plain": [
       "<IPython.core.display.Javascript object>"
      ]
     },
     "metadata": {},
     "output_type": "display_data"
    },
    {
     "data": {
      "text/markdown": [
       "<span style=\"color:#33cc33\">Correct</span>"
      ],
      "text/plain": [
       "Correct"
      ]
     },
     "metadata": {},
     "output_type": "display_data"
    }
   ],
   "source": [
    "X_5 = pd.DataFrame()\n",
    "\n",
    "# YOUR CODE HERE\n",
    "\n",
    "X_5[\"MedNhbdArea\"] = df.groupby(\"Neighborhood\")[\"GrLivArea\"].transform(\"median\")\n",
    "\n",
    "# Check your answer\n",
    "q_5.check()"
   ]
  },
  {
   "cell_type": "code",
   "execution_count": 12,
   "id": "57e6c2de",
   "metadata": {
    "execution": {
     "iopub.execute_input": "2023-06-30T04:48:05.058890Z",
     "iopub.status.busy": "2023-06-30T04:48:05.058205Z",
     "iopub.status.idle": "2023-06-30T04:48:05.066870Z",
     "shell.execute_reply": "2023-06-30T04:48:05.065680Z"
    },
    "lines_to_next_cell": 0,
    "papermill": {
     "duration": 0.023292,
     "end_time": "2023-06-30T04:48:05.069443",
     "exception": false,
     "start_time": "2023-06-30T04:48:05.046151",
     "status": "completed"
    },
    "tags": []
   },
   "outputs": [
    {
     "data": {
      "application/javascript": [
       "parent.postMessage({\"jupyterEvent\": \"custom.exercise_interaction\", \"data\": {\"interactionType\": 3, \"questionType\": 2, \"questionId\": \"5_Q5\", \"learnToolsVersion\": \"0.3.4\", \"valueTowardsCompletion\": 0.0, \"failureMessage\": \"\", \"exceptionClass\": \"\", \"trace\": \"\", \"outcomeType\": 4}}, \"*\")"
      ],
      "text/plain": [
       "<IPython.core.display.Javascript object>"
      ]
     },
     "metadata": {},
     "output_type": "display_data"
    },
    {
     "data": {
      "text/markdown": [
       "<span style=\"color:#33cc99\">Solution:</span> \n",
       "```python\n",
       "\n",
       "X_5 = pd.DataFrame()\n",
       "\n",
       "X_5[\"MedNhbdArea\"] = df.groupby(\"Neighborhood\")[\"GrLivArea\"].transform(\"median\")\n",
       "\n",
       "```"
      ],
      "text/plain": [
       "Solution: \n",
       "```python\n",
       "\n",
       "X_5 = pd.DataFrame()\n",
       "\n",
       "X_5[\"MedNhbdArea\"] = df.groupby(\"Neighborhood\")[\"GrLivArea\"].transform(\"median\")\n",
       "\n",
       "```"
      ]
     },
     "metadata": {},
     "output_type": "display_data"
    }
   ],
   "source": [
    "# Lines below will give you a hint or solution code\n",
    "#q_5.hint()\n",
    "q_5.solution()"
   ]
  },
  {
   "cell_type": "markdown",
   "id": "48aab4b6",
   "metadata": {
    "papermill": {
     "duration": 0.010356,
     "end_time": "2023-06-30T04:48:05.090644",
     "exception": false,
     "start_time": "2023-06-30T04:48:05.080288",
     "status": "completed"
    },
    "tags": []
   },
   "source": [
    "Now you've made your first new feature set! If you like, you can run the cell below to score the model with all of your new features added:"
   ]
  },
  {
   "cell_type": "code",
   "execution_count": 13,
   "id": "4e338a23",
   "metadata": {
    "execution": {
     "iopub.execute_input": "2023-06-30T04:48:05.115168Z",
     "iopub.status.busy": "2023-06-30T04:48:05.114791Z",
     "iopub.status.idle": "2023-06-30T04:48:09.321929Z",
     "shell.execute_reply": "2023-06-30T04:48:09.320754Z"
    },
    "papermill": {
     "duration": 4.223355,
     "end_time": "2023-06-30T04:48:09.325118",
     "exception": false,
     "start_time": "2023-06-30T04:48:05.101763",
     "status": "completed"
    },
    "tags": []
   },
   "outputs": [
    {
     "data": {
      "text/plain": [
       "0.13865658070461215"
      ]
     },
     "execution_count": 13,
     "metadata": {},
     "output_type": "execute_result"
    }
   ],
   "source": [
    "X_new = X.join([X_1, X_2, X_3, X_4, X_5])\n",
    "score_dataset(X_new, y)"
   ]
  },
  {
   "cell_type": "markdown",
   "id": "8077a08b",
   "metadata": {
    "papermill": {
     "duration": 0.016698,
     "end_time": "2023-06-30T04:48:09.354819",
     "exception": false,
     "start_time": "2023-06-30T04:48:09.338121",
     "status": "completed"
    },
    "tags": []
   },
   "source": [
    "# Keep Going #\n",
    "\n",
    "[**Untangle spatial relationships**](https://www.kaggle.com/ryanholbrook/clustering-with-k-means) by adding cluster labels to your dataset."
   ]
  },
  {
   "cell_type": "markdown",
   "id": "ae9a3198",
   "metadata": {
    "papermill": {
     "duration": 0.011579,
     "end_time": "2023-06-30T04:48:09.379901",
     "exception": false,
     "start_time": "2023-06-30T04:48:09.368322",
     "status": "completed"
    },
    "tags": []
   },
   "source": [
    "---\n",
    "\n",
    "\n",
    "\n",
    "\n",
    "*Have questions or comments? Visit the [course discussion forum](https://www.kaggle.com/learn/feature-engineering/discussion) to chat with other learners.*"
   ]
  }
 ],
 "metadata": {
  "kernelspec": {
   "display_name": "Python 3",
   "language": "python",
   "name": "python3"
  },
  "language_info": {
   "codemirror_mode": {
    "name": "ipython",
    "version": 3
   },
   "file_extension": ".py",
   "mimetype": "text/x-python",
   "name": "python",
   "nbconvert_exporter": "python",
   "pygments_lexer": "ipython3",
   "version": "3.10.10"
  },
  "papermill": {
   "default_parameters": {},
   "duration": 20.137036,
   "end_time": "2023-06-30T04:48:10.418924",
   "environment_variables": {},
   "exception": null,
   "input_path": "__notebook__.ipynb",
   "output_path": "__notebook__.ipynb",
   "parameters": {},
   "start_time": "2023-06-30T04:47:50.281888",
   "version": "2.4.0"
  }
 },
 "nbformat": 4,
 "nbformat_minor": 5
}
